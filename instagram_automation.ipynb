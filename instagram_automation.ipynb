{
 "cells": [
  {
   "cell_type": "markdown",
   "metadata": {},
   "source": [
    "### Automation of Instagram Interactions & Content Creation using OpenCV, PyAutoGUI and Large Language Models (e.g. ChatGPT) - Part 1\n",
    "Welcome to this Jupyter Notebook focused on automating Instagram content creation. In this notebook, we will explore a use case scenario where we leverage the power of OpenCV, PyAutoGUI, and the OpenAI library to automate key tasks on Instagram. By using these libraries, we can automatically like and follow other user accounts, as well as generate automated comments. Please note that this was only tested in Google Chrome and with a resolution of 2540 x 1440 and 1920 x 1080. Theoretically it should also work with other resolutions, but not other webbrowsers.\n",
    "\n",
    "The example described here, using PyAutoGUI, OpenCV and OpenAI provides flexibility and ease of implementation, but it is not optimized for speed or efficiency. Automating interactions in this manner involves simulating user clicks on icons and navigating through the Instagram webpage, which can introduce some inherent limitations and potential performance trade-offs.\n",
    "\n",
    "In addition, this example utilizes the OpenCV image recognition library to identify logos, icons and buttons on the screen to navigate on the website to decide where to click. The ./resources/ folder in this repository consists a collection of such logos, icons and buttons. However, adding additional templates for matching is as easy as taking a small screenshot (Windows: Shift + Windows Key + S) and copying the .png file into the ./resources/ folder.\n"
   ]
  },
  {
   "cell_type": "code",
   "execution_count": 2,
   "metadata": {},
   "outputs": [],
   "source": [
    "# Importing necessary libraries and helper functions from utils.py\n",
    "from time import sleep\n",
    "import random\n",
    "from waiting import wait\n",
    "from utils2 import *\n",
    "import matplotlib.pyplot as plt"
   ]
  },
  {
   "cell_type": "markdown",
   "metadata": {},
   "source": [
    "Image you have opened the instagram website for the hashtag #goldenretrievers and you want to automatically like some of the posts."
   ]
  },
  {
   "cell_type": "markdown",
   "metadata": {},
   "source": [
    "![alt text](./documents/image_2.png \"Instagram\")"
   ]
  },
  {
   "cell_type": "markdown",
   "metadata": {},
   "source": [
    "First, we take a snapshot of the screen. We store the snapshot in our temporary folder. The region indicates the area from where we want to take a screenshot (x1, y1, x2, y2). Here we take a screenshot of our full screen. Verbose can be set to false to suppress the output statement."
   ]
  },
  {
   "cell_type": "code",
   "execution_count": 7,
   "metadata": {},
   "outputs": [
    {
     "name": "stdout",
     "output_type": "stream",
     "text": [
      "[2023-09-12 - 11:43:42] Created Screenshot: ./tmp/snapshot.png.\n"
     ]
    }
   ],
   "source": [
    "# First we should take a screenshot.\n",
    "path_to_image = './tmp/snapshot.png'\n",
    "snapshot = take_screenshot(file_name=path_to_image, region=(0, 0, 2560, 1440), verbose=True)"
   ]
  },
  {
   "cell_type": "markdown",
   "metadata": {},
   "source": [
    "Next, let´s open the instagram home page. For that, we could either change the URL (www.instagram.com) or click on the home button on the side. Let´s click on the home button.\n",
    "\n",
    "The white_home.png contains an image of the small house."
   ]
  },
  {
   "cell_type": "code",
   "execution_count": 8,
   "metadata": {},
   "outputs": [
    {
     "data": {
      "text/plain": [
       "(-0.5, 57.5, 54.5, -0.5)"
      ]
     },
     "execution_count": 8,
     "metadata": {},
     "output_type": "execute_result"
    },
    {
     "data": {
      "image/png": "[encoded data removed]",
      "text/plain": [
       "<Figure size 640x480 with 1 Axes>"
      ]
     },
     "metadata": {},
     "output_type": "display_data"
    }
   ],
   "source": [
    "# Let us quickly visualize the home icons.\n",
    "path_to_template = './resources/white_home.png'\n",
    "template = cv2.imread(path_to_template)\n",
    "\n",
    "# Convert the BGR image to RGB\n",
    "template_rgb = cv2.cvtColor(template, cv2.COLOR_BGR2RGB)\n",
    "\n",
    "# Display the image using matplotlib\n",
    "plt.imshow(template_rgb)\n",
    "plt.axis('off')"
   ]
  },
  {
   "cell_type": "markdown",
   "metadata": {},
   "source": [
    "We can use that house to search and click on the website. For that, we use the locate_image function. We simply pass the path to our saved screenshot and the path to the template image. If it works, we should receive an x and y position."
   ]
  },
  {
   "cell_type": "code",
   "execution_count": 9,
   "metadata": {},
   "outputs": [
    {
     "name": "stdout",
     "output_type": "stream",
     "text": [
      "54 307\n"
     ]
    }
   ],
   "source": [
    "# We locate the x and y position of the home button in our saved screenshot.\n",
    "x, y = locate_image(path_to_image, path_to_template)\n",
    "print(x,y)"
   ]
  },
  {
   "cell_type": "markdown",
   "metadata": {},
   "source": [
    "Next, let´s move our cursor to the home button and click on it. For that, we use a simple wrapper around the PyAutoGUI function that controls the mouse cursor. By setting do_click to True, we immediately click on the target position. The delay variable adds a random delay (minimum_time_in_s, maximum_time_in_s) to the click."
   ]
  },
  {
   "cell_type": "code",
   "execution_count": 14,
   "metadata": {},
   "outputs": [],
   "source": [
    "move_cursor(x, y, do_click=True, delay=(0.3, 0.5))"
   ]
  },
  {
   "cell_type": "markdown",
   "metadata": {},
   "source": [
    "If this work, you should now be on your homepage. Since we have switched pages, we need to update our snapshot."
   ]
  },
  {
   "cell_type": "code",
   "execution_count": 15,
   "metadata": {},
   "outputs": [
    {
     "name": "stdout",
     "output_type": "stream",
     "text": [
      "[2023-09-12 - 11:44:12] Created Screenshot: ./tmp/snapshot.png.\n"
     ]
    }
   ],
   "source": [
    "snapshot = take_screenshot(file_name=path_to_image, region=(0, 0, 2560, 1440), verbose=True)"
   ]
  },
  {
   "cell_type": "markdown",
   "metadata": {},
   "source": [
    " In a similar fashion, you can navigate through nearly all elements on the instagram webpage. Image you want to follow a person that is suggested to you. Usually, this panel occurs on the right side of your instagram homepage. Let´s search for the blue follow button that occurs on the \"suggested for you\" part of the website."
   ]
  },
  {
   "cell_type": "markdown",
   "metadata": {},
   "source": [
    "![alt text](./documents/image_4.png \"Instagram\")"
   ]
  },
  {
   "cell_type": "markdown",
   "metadata": {},
   "source": [
    "We use the \"blue_follow_button\" as template to locate on our snapshot. Then, we move the cursor on click on the coordinates again."
   ]
  },
  {
   "cell_type": "code",
   "execution_count": 17,
   "metadata": {},
   "outputs": [],
   "source": [
    "path_to_template = './resources/blue_follow_button.png'\n",
    "x, y = locate_image(path_to_image, path_to_template)\n",
    "move_cursor(x, y, do_click=True, delay=(0.3, 0.5))"
   ]
  },
  {
   "cell_type": "markdown",
   "metadata": {},
   "source": [
    "Since there are multiple buttons, let´s use a loop to go through this until all follow buttons are clicked."
   ]
  },
  {
   "cell_type": "code",
   "execution_count": 18,
   "metadata": {},
   "outputs": [
    {
     "name": "stdout",
     "output_type": "stream",
     "text": [
      "[2023-09-12 - 11:44:31] Created Screenshot: ./tmp/snapshot.png.\n",
      "[2023-09-12 - 11:44:32] Created Screenshot: ./tmp/snapshot.png.\n",
      "[2023-09-12 - 11:44:33] Created Screenshot: ./tmp/snapshot.png.\n",
      "[2023-09-12 - 11:44:34] Created Screenshot: ./tmp/snapshot.png.\n"
     ]
    }
   ],
   "source": [
    "for ii in range(0,4):\n",
    "    snapshot = take_screenshot(file_name=path_to_image, region=(0, 0, 2560, 1440), verbose=True)\n",
    "    path_to_template = './resources/blue_follow_button.png'\n",
    "    x, y = locate_image(path_to_image, path_to_template)\n",
    "    move_cursor(x, y, do_click=True, delay=(0.3, 0.5))"
   ]
  },
  {
   "cell_type": "markdown",
   "metadata": {},
   "source": [
    "Done - we just followed five people automatically. However, we can do even more complex steps of actions on the website.\n",
    "\n",
    "In the next piece, we will create a list of commands that will be executed in sequence automatically.\n",
    "1) We will open the instagram page of #goldenretriever\n",
    "2) We move our cursor to the first post on position (1) and open the post\n",
    "3) We take another screenshot to update the content on the screen\n",
    "4) We like the post\n",
    "5) We follow the user from the post"
   ]
  },
  {
   "cell_type": "code",
   "execution_count": 19,
   "metadata": {},
   "outputs": [
    {
     "name": "stdout",
     "output_type": "stream",
     "text": [
      "[2023-09-12 - 11:44:49] Created Screenshot: ./tmp/snapshot.png.\n"
     ]
    }
   ],
   "source": [
    "# Defining the actions\n",
    "action_sequence = [goto_hashtag_page('goldenretriever'), # Visit Golden Retriever Hashtag Page\n",
    "                       move_to_image_position(3), # Move and click on the post on position 1\n",
    "                       take_screenshot(file_name=path_to_image, region=(0, 0, 2560, 1440), verbose=True), # Update Screenshot\n",
    "                       like_post(), # Like the Post\n",
    "                       follow_user_from_post(), # Follow the User From the Post\n",
    "                       ]\n",
    "\n",
    "# We iterate over all actions in our sequence\n",
    "for fn in action_sequence:\n",
    "    fn"
   ]
  },
  {
   "cell_type": "markdown",
   "metadata": {},
   "source": [
    "Maybe we also want to leave a nice comment below the post. Let´s do this next."
   ]
  },
  {
   "cell_type": "code",
   "execution_count": 20,
   "metadata": {},
   "outputs": [
    {
     "name": "stdout",
     "output_type": "stream",
     "text": [
      "[2023-09-12 - 11:44:58] Created Screenshot: ./tmp/snapshot.png.\n"
     ]
    }
   ],
   "source": [
    "# We take a screenshot to have the lastest screen information\n",
    "take_screenshot(file_name=path_to_image, region=(0, 0, 2560, 1440), verbose=True), # Update Screenshot\n",
    "\n",
    "# Search comment field and click on it\n",
    "initiate_comment()\n",
    "\n",
    "# Write text into comment field and submit the post.\n",
    "write_and_post_comment('What a great dog! I love him!')"
   ]
  },
  {
   "cell_type": "markdown",
   "metadata": {},
   "source": [
    "So let´s put all of this into a one action sequence."
   ]
  },
  {
   "cell_type": "code",
   "execution_count": 21,
   "metadata": {},
   "outputs": [
    {
     "name": "stdout",
     "output_type": "stream",
     "text": [
      "[2023-09-12 - 11:45:16] Created Screenshot: ./tmp/snapshot.png.\n"
     ]
    }
   ],
   "source": [
    "# Defining the actions\n",
    "action_sequence = [goto_hashtag_page('puppy'),\n",
    "                       move_to_image_position(3),\n",
    "                       take_screenshot(file_name=path_to_image, region=(0, 0, 2560, 1440), verbose=True),\n",
    "                       like_post(),\n",
    "                       follow_user_from_post(),\n",
    "                       initiate_comment(),\n",
    "                       write_and_post_comment('What a great dog! I love him!')\n",
    "                       ]\n",
    "\n",
    "# We iterate over all actions in our sequence\n",
    "for fn in action_sequence:\n",
    "    fn"
   ]
  },
  {
   "cell_type": "markdown",
   "metadata": {},
   "source": [
    "Obviously, posting always the same post might become boring very quickly (and Instagram might recognize that you are spamming). So let´s rely on ChatGPT (or some other LLM) to create some more interesting posts."
   ]
  },
  {
   "cell_type": "code",
   "execution_count": 14,
   "metadata": {},
   "outputs": [
    {
     "name": "stdout",
     "output_type": "stream",
     "text": [
      "[2023-09-07 - 20:50:00] [Created Comment]: Awwww 😍 This pup is absolutely adorable! Such a sweet face and those eyes just melt my heart! 💕\n"
     ]
    }
   ],
   "source": [
    "comment = query_gpt_for_commment()"
   ]
  },
  {
   "cell_type": "markdown",
   "metadata": {},
   "source": [
    "The function calls the ChatGPT API and utilizes the following prompt to generate responses that are appropriate for a social media network such as instagram:\n",
    "\n",
    "\"\"\"\n",
    "You are a social media expert with 10 years experience on instagram.\n",
    "You are primarily engaging with content related about cute animals, such as dogs and puppies. \n",
    "You are commenting on posts from followers and other instagram users, primarily with the purpose of engaging with them and making them follow your account.\n",
    "You are always kind and nice and respectful.\n",
    "Make sure that youre response is between two to three sentences long and feel free to use emojis.\n",
    "Make also sure that you do not include quotation marks at the beginning or the end of the prompt.\n",
    "Last, do not ask explicitly for people to follow you.\n",
    "\n",
    "Your task is write to a comment to an instagram post that shows a cute dog.\n",
    "\"\"\"\n",
    "\n",
    "The text shows some variation, but are overall not very original. This reflects on one side the strictness of the prompt which doesn´t leave much room for imagination. On the other hand, this also reflects the reality of often very shallow and simple posts in the instagram dog and puppies community.\n"
   ]
  },
  {
   "cell_type": "markdown",
   "metadata": {},
   "source": [
    "So let´s repeat the sequence with a custom-generated comment. For that, we simply replace the text in write_and_post_comment() with a call to our query_gpt_for_commment() function.\n"
   ]
  },
  {
   "cell_type": "code",
   "execution_count": 23,
   "metadata": {},
   "outputs": [
    {
     "name": "stdout",
     "output_type": "stream",
     "text": [
      "[2023-09-12 - 11:46:24] Created Screenshot: ./tmp/snapshot.png.\n",
      "[2023-09-12 - 11:46:28] [Created Comment]: Aww, what an adorable pupper! 😍 Their cuteness is off the charts! 😊\n"
     ]
    }
   ],
   "source": [
    "# Defining the actions\n",
    "action_sequence = [goto_hashtag_page('puppy'),\n",
    "                       move_to_image_position(5),\n",
    "                       take_screenshot(file_name=path_to_image, region=(0, 0, 2560, 1440), verbose=True),\n",
    "                       like_post(),\n",
    "                       follow_user_from_post(),\n",
    "                       initiate_comment(),\n",
    "                       write_and_post_comment(query_gpt_for_commment())\n",
    "                       ]\n",
    "\n",
    "# We iterate over all actions in our sequence\n",
    "for fn in action_sequence:\n",
    "    fn"
   ]
  },
  {
   "cell_type": "markdown",
   "metadata": {},
   "source": [
    "In the following "
   ]
  }
 ],
 "metadata": {
  "kernelspec": {
   "display_name": "cpd",
   "language": "python",
   "name": "python3"
  },
  "language_info": {
   "codemirror_mode": {
    "name": "ipython",
    "version": 3
   },
   "file_extension": ".py",
   "mimetype": "text/x-python",
   "name": "python",
   "nbconvert_exporter": "python",
   "pygments_lexer": "ipython3",
   "version": "3.8.16"
  },
  "orig_nbformat": 4
 },
 "nbformat": 4,
 "nbformat_minor": 2
}
